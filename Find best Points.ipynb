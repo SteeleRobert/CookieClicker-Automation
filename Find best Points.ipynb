{
 "cells": [
  {
   "cell_type": "code",
   "execution_count": 6,
   "id": "3f11d816",
   "metadata": {},
   "outputs": [],
   "source": [
    "import pandas as pd\n",
    "from tqdm import tqdm"
   ]
  },
  {
   "cell_type": "code",
   "execution_count": 26,
   "id": "a8dc38ce",
   "metadata": {},
   "outputs": [],
   "source": [
    "df = pd.read_csv('stock.csv')"
   ]
  },
  {
   "cell_type": "code",
   "execution_count": 27,
   "id": "15a141d7",
   "metadata": {},
   "outputs": [
    {
     "data": {
      "text/plain": [
       "Stock0      35.364993\n",
       "Stock1      39.619426\n",
       "Stock2      44.418141\n",
       "Stock3      51.336366\n",
       "Stock4      52.634744\n",
       "Stock5      60.634399\n",
       "Stock6      63.561433\n",
       "Stock7      67.795820\n",
       "Stock8      76.220963\n",
       "Stock9      83.558184\n",
       "Stock10     87.605333\n",
       "Stock11     94.643304\n",
       "Stock12     99.430146\n",
       "Stock13    107.342453\n",
       "Stock14    112.055403\n",
       "Stock15    120.597469\n",
       "Stock16    124.792317\n",
       "dtype: float64"
      ]
     },
     "execution_count": 27,
     "metadata": {},
     "output_type": "execute_result"
    }
   ],
   "source": [
    "df.mean()"
   ]
  },
  {
   "cell_type": "code",
   "execution_count": 21,
   "id": "b8629156",
   "metadata": {},
   "outputs": [],
   "source": [
    "def resting_value(id, bank_level):\n",
    "    return 10 * (id + 1) + bank_level - 1"
   ]
  },
  {
   "cell_type": "code",
   "execution_count": 17,
   "id": "842bc5c0",
   "metadata": {},
   "outputs": [],
   "source": [
    "def calc_profit(buy, sell, hist):\n",
    "    holding = -1\n",
    "    profit = 0\n",
    "    for h in hist:\n",
    "        if holding == -1:\n",
    "            if h < buy:\n",
    "                holding = h\n",
    "        else:\n",
    "            if h > sell:\n",
    "                profit += sell - holding\n",
    "                holding = -1\n",
    "    return profit"
   ]
  },
  {
   "cell_type": "code",
   "execution_count": 29,
   "id": "1c601cba",
   "metadata": {},
   "outputs": [],
   "source": [
    "def find_best(df):\n",
    "    i = 0\n",
    "    for col in df.columns:\n",
    "        prices = []\n",
    "        profits = []\n",
    "\n",
    "        sell = df[col].max()-5\n",
    "\n",
    "        while(sell > resting_value(i,7)/2):\n",
    "            buy = sell-5\n",
    "            while(buy > df[col].min()):\n",
    "                prices.append((buy,sell))\n",
    "                profits.append(calc_profit(buy, sell, df[col]))\n",
    "                buy -= 5\n",
    "            sell -= 5\n",
    "        print(max(profits))\n",
    "        print(prices[profits.index(max(profits))])\n",
    "        print(resting_value(i,7)/2)\n",
    "        i += 1"
   ]
  },
  {
   "cell_type": "code",
   "execution_count": 32,
   "id": "1e29f4a2",
   "metadata": {},
   "outputs": [],
   "source": [
    "def find_best(df, step_size=5):\n",
    "    i = 0\n",
    "    for col in df.columns:\n",
    "        prices = []\n",
    "        profits = []\n",
    "\n",
    "        sell = df[col].max()-step_size\n",
    "\n",
    "        while(sell > resting_value(i,7)/2):\n",
    "            buy = sell-step_size\n",
    "            while(buy > df[col].min()):\n",
    "                prices.append((buy,sell))\n",
    "                profits.append(calc_profit(buy, sell, df[col]))\n",
    "                buy -= step_size\n",
    "            sell -= step_size\n",
    "        print(max(profits))\n",
    "        print(prices[profits.index(max(profits))])\n",
    "        print(resting_value(i,7)/2)\n",
    "        i += 1"
   ]
  },
  {
   "cell_type": "code",
   "execution_count": 33,
   "id": "d86be033",
   "metadata": {},
   "outputs": [
    {
     "name": "stdout",
     "output_type": "stream",
     "text": [
      "12136.589069868392\n",
      "(4.8500961813558945, 59.850096181355894)\n",
      "8.0\n",
      "12026.913194949591\n",
      "(8.830609374223712, 68.83060937422371)\n",
      "13.0\n",
      "13029.203410710285\n",
      "(5.682888836900872, 78.18288883690087)\n",
      "18.0\n",
      "13186.557785582494\n",
      "(4.523570131028492, 84.52357013102849)\n",
      "23.0\n",
      "12906.22033505957\n",
      "(5.683010311669847, 88.18301031166985)\n",
      "28.0\n",
      "13383.208820174013\n",
      "(10.37637210468759, 115.37637210468759)\n",
      "33.0\n",
      "14042.291656103302\n",
      "(4.8458150870181385, 104.84581508701814)\n",
      "38.0\n",
      "14540.361567157184\n",
      "(10.568653170957049, 103.06865317095705)\n",
      "43.0\n",
      "14556.18984306573\n",
      "(10.963429131969747, 118.46342913196975)\n",
      "48.0\n",
      "14095.592308726014\n",
      "(9.56900985923943, 127.06900985923943)\n",
      "53.0\n",
      "13072.092576622945\n",
      "(22.579902634449923, 122.57990263444992)\n",
      "58.0\n",
      "13801.628252720846\n",
      "(17.283469778304607, 124.7834697783046)\n",
      "63.0\n",
      "12790.993507867079\n",
      "(44.389760438614076, 131.88976043861408)\n",
      "68.0\n",
      "13116.786385257346\n",
      "(40.563814113985586, 135.5638141139856)\n",
      "73.0\n",
      "12494.049005305795\n",
      "(32.321077595689076, 144.82107759568908)\n",
      "78.0\n",
      "12660.877173551009\n",
      "(60.593505954495186, 138.09350595449519)\n",
      "83.0\n",
      "12731.860850529602\n",
      "(64.39172150536939, 159.3917215053694)\n",
      "88.0\n"
     ]
    }
   ],
   "source": [
    "find_best(df, 2.5)"
   ]
  },
  {
   "cell_type": "code",
   "execution_count": null,
   "id": "4e39baaf",
   "metadata": {},
   "outputs": [],
   "source": []
  }
 ],
 "metadata": {
  "kernelspec": {
   "display_name": "Python 3 (ipykernel)",
   "language": "python",
   "name": "python3"
  },
  "language_info": {
   "codemirror_mode": {
    "name": "ipython",
    "version": 3
   },
   "file_extension": ".py",
   "mimetype": "text/x-python",
   "name": "python",
   "nbconvert_exporter": "python",
   "pygments_lexer": "ipython3",
   "version": "3.8.11"
  }
 },
 "nbformat": 4,
 "nbformat_minor": 5
}
