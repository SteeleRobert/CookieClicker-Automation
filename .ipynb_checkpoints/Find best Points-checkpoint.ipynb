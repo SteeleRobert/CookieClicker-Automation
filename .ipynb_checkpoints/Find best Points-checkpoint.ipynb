{
 "cells": [
  {
   "cell_type": "code",
   "execution_count": 1,
   "id": "3f11d816",
   "metadata": {},
   "outputs": [],
   "source": [
    "import pandas as pd\n",
    "from tqdm import tqdm"
   ]
  },
  {
   "cell_type": "code",
   "execution_count": 2,
   "id": "a8dc38ce",
   "metadata": {},
   "outputs": [],
   "source": [
    "df = pd.read_csv('data/stock.csv')"
   ]
  },
  {
   "cell_type": "code",
   "execution_count": 5,
   "id": "b8629156",
   "metadata": {},
   "outputs": [],
   "source": [
    "def resting_value(id, bank_level):\n",
    "    return 10 * (id + 1) + bank_level - 1"
   ]
  },
  {
   "cell_type": "code",
   "execution_count": 6,
   "id": "842bc5c0",
   "metadata": {},
   "outputs": [],
   "source": [
    "def calc_profit(buy, sell, hist):\n",
    "    holding = -1\n",
    "    profit = 0\n",
    "    for h in hist:\n",
    "        if holding == -1:\n",
    "            if h < buy:\n",
    "                holding = h\n",
    "        else:\n",
    "            if h > sell:\n",
    "                profit += sell - holding\n",
    "                holding = -1\n",
    "    return profit"
   ]
  },
  {
   "cell_type": "code",
   "execution_count": 10,
   "id": "1e29f4a2",
   "metadata": {},
   "outputs": [],
   "source": [
    "def find_best(df, step_size=5):\n",
    "    i = 0\n",
    "    for col in df.columns:\n",
    "        prices = []\n",
    "        profits = []\n",
    "\n",
    "        sell = df[col].max()-step_size\n",
    "\n",
    "        while(sell > resting_value(i,7)/2):\n",
    "            buy = sell-step_size\n",
    "            while(buy > df[col].min()):\n",
    "                prices.append((buy,sell))\n",
    "                profits.append(calc_profit(buy, sell, df[col]))\n",
    "                buy -= step_size\n",
    "            sell -= step_size\n",
    "        values = prices[profits.index(max(profits))]\n",
    "        print(f'{i}: [{values[0]}, {values[1]}],')\n",
    "#         print(max(profits))\n",
    "#         print(prices[profits.index(max(profits))])\n",
    "#         print(resting_value(i,7)/2)\n",
    "        i += 1"
   ]
  },
  {
   "cell_type": "code",
   "execution_count": 11,
   "id": "d86be033",
   "metadata": {},
   "outputs": [
    {
     "name": "stdout",
     "output_type": "stream",
     "text": [
      "0: [4.296752808225449, 74.29675280822545],\n",
      "1: [7.101098120866283, 69.60109812086628],\n",
      "2: [6.056790259536228, 76.05679025953623],\n",
      "3: [6.967195132086488, 91.96719513208649],\n",
      "4: [7.693608673653188, 97.69360867365319],\n",
      "5: [4.866925452745392, 84.86692545274539],\n",
      "6: [8.150600348757706, 93.1506003487577],\n",
      "7: [6.253081399632322, 116.25308139963232],\n",
      "8: [7.384369208292071, 119.88436920829207],\n",
      "9: [40.153257584487505, 127.6532575844875],\n",
      "10: [4.593442003495852, 134.59344200349585],\n",
      "11: [27.99021441180213, 142.99021441180213],\n",
      "12: [48.14629756608133, 138.14629756608133],\n",
      "13: [33.07745904023403, 138.07745904023403],\n",
      "14: [74.15591670938426, 144.15591670938426],\n",
      "15: [69.83242089997663, 142.33242089997663],\n",
      "16: [54.58890361704482, 167.08890361704482],\n"
     ]
    }
   ],
   "source": [
    "find_best(df, 2.5)"
   ]
  },
  {
   "cell_type": "code",
   "execution_count": null,
   "id": "4e39baaf",
   "metadata": {},
   "outputs": [],
   "source": []
  }
 ],
 "metadata": {
  "kernelspec": {
   "display_name": "Python 3 (ipykernel)",
   "language": "python",
   "name": "python3"
  },
  "language_info": {
   "codemirror_mode": {
    "name": "ipython",
    "version": 3
   },
   "file_extension": ".py",
   "mimetype": "text/x-python",
   "name": "python",
   "nbconvert_exporter": "python",
   "pygments_lexer": "ipython3",
   "version": "3.8.11"
  }
 },
 "nbformat": 4,
 "nbformat_minor": 5
}
